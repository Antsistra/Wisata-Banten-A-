{
  "nbformat": 4,
  "nbformat_minor": 0,
  "metadata": {
    "colab": {
      "provenance": [],
      "authorship_tag": "ABX9TyPcGp11gkKPi0uYsD6YUuXO",
      "include_colab_link": true
    },
    "kernelspec": {
      "name": "python3",
      "display_name": "Python 3"
    },
    "language_info": {
      "name": "python"
    }
  },
  "cells": [
    {
      "cell_type": "markdown",
      "metadata": {
        "id": "view-in-github",
        "colab_type": "text"
      },
      "source": [
        "<a href=\"https://colab.research.google.com/github/Antsistra/Rute-Rumah-Sakit-Terdekat-A-Stars/blob/dev-models/Rute_Rumah_sakit_Terdekat_dari_Perumahan_X_Menggunakan_A_(A_Stars)_Method_.ipynb\" target=\"_parent\"><img src=\"https://colab.research.google.com/assets/colab-badge.svg\" alt=\"Open In Colab\"/></a>"
      ]
    },
    {
      "cell_type": "markdown",
      "source": [
        "#**Penerapan Algoritma A* (A-Star) dalam Mencari Rute Terpendek Dari Citraland ke Rumah Sakit Sari Asih Serang**\n"
      ],
      "metadata": {
        "id": "iAr-bC3P0eX7"
      }
    },
    {
      "cell_type": "markdown",
      "source": [
        "**Import Library**"
      ],
      "metadata": {
        "id": "Ouz2zqKVs32X"
      }
    },
    {
      "cell_type": "code",
      "source": [
        "import folium as fl\n",
        "import pandas as pd\n",
        "import numpy as np\n",
        "import heapq"
      ],
      "metadata": {
        "id": "ZZNXqk8sty3T"
      },
      "execution_count": null,
      "outputs": []
    },
    {
      "cell_type": "markdown",
      "source": [
        "# **Dataset Section**"
      ],
      "metadata": {
        "id": "l7WG9OIkrnmZ"
      }
    },
    {
      "cell_type": "markdown",
      "source": [
        "**Generate Dataset**"
      ],
      "metadata": {
        "id": "bCKP6uNZ2BYJ"
      }
    },
    {
      "cell_type": "markdown",
      "source": [
        "Generate Dataset For Eculidean Calculation"
      ],
      "metadata": {
        "id": "zEsw9pF46eWj"
      }
    },
    {
      "cell_type": "code",
      "source": [
        "\n",
        "data = {\n",
        "    \"No\": [1, 2, 3, 4, 5, 6, 7, 8, 9, 10, 11, 12],\n",
        "    \"Titik\": [\"A\", \"B\", \"C\", \"D\", \"E\", \"F\", \"G\", \"H\", \"I\", \"J\", \"K\", \"L\"],\n",
        "    \"Lokasi\": [\n",
        "        \"Citraland\", \"Jl Raya Sepang\", \"Jl Ciracas\", \"Jl Kolonel Tubagus Suwandi\",\n",
        "        \"Jl Veteran\", \"Jl Kh Abdul Hadi\", \"Jl Kejaksaan I\", \"Jl Jend Ahmad Yani\",\n",
        "        \"Jl Kh Sochan\", \"Jl Kh abdul fatah hasan\", \"Jl Jend Sudirman\", \"Rs Sari Asih Serang\"\n",
        "    ],\n",
        "    \"Koordinat\": [\n",
        "        \"0, 0\", \"1, 0\", \"4, 4\",\n",
        "        \"5, 5\", \"6, 13\", \"8, 8\",\n",
        "        \"8, 10\", \"9, 13\", \"12, 12\",\n",
        "        \"15, 12\", \"17, 16\", \"18, 17\"\n",
        "    ]\n",
        "}\n",
        "\n",
        "\n",
        "data['X'] = [float(coord.split(\", \")[0]) for coord in data['Koordinat']]\n",
        "data['Y'] = [float(coord.split(\", \")[1]) for coord in data['Koordinat']]\n",
        "\n",
        "\n",
        "df = pd.DataFrame(data)\n",
        "df.to_csv(\"dataset/koordinat.csv\", index=False)\n",
        "dataset = pd.read_csv('dataset/koordinat.csv')\n",
        "dataset\n"
      ],
      "metadata": {
        "id": "FDdIVrVzEzsQ"
      },
      "execution_count": null,
      "outputs": []
    },
    {
      "cell_type": "markdown",
      "source": [
        "Cost Value Dataset f(n)"
      ],
      "metadata": {
        "id": "yD4M_UKQ6hOh"
      }
    },
    {
      "cell_type": "code",
      "source": [
        "data = {\n",
        "    \"No\": [1, 2, 3, 4, 5, 6, 7, 8, 9, 10, 11, 12, 13, 14],\n",
        "    \"Titik\": [\"AB\", \"BC\", \"BD\", \"CE\",\"DF\",\"FG\",\"FI\",\"FJ\",\"GE\",\"EH\",\"HK\",\"JK\",\"IK\",\"KL\"],\n",
        "    \"f(n)\": [0.95,1.4,1.5,1.9,1.6,0.5,0.7,1.4,1.2,0.6,1.6,0.7,1.3,1],\n",
        "\n",
        "}\n",
        "\n",
        "\n",
        "df = pd.DataFrame(data)\n",
        "\n",
        "df.to_csv(\"dataset/cost_value.csv\", index=False)\n",
        "dataset = pd.read_csv('dataset/cost_value.csv')\n",
        "dataset"
      ],
      "metadata": {
        "id": "qjDUsMBF60me"
      },
      "execution_count": null,
      "outputs": []
    },
    {
      "cell_type": "markdown",
      "source": [
        "Visualisasi Lokasi"
      ],
      "metadata": {
        "id": "AMPpX8Xa7lyr"
      }
    },
    {
      "cell_type": "code",
      "source": [
        "\n",
        "data = {\n",
        "    \"No\": [1, 2, 3, 4, 5, 6, 7, 8, 9, 10, 11, 12],\n",
        "    \"Titik\": [\"A\", \"B\", \"C\", \"D\", \"E\", \"F\", \"G\", \"H\", \"I\", \"J\", \"K\", \"L\"],\n",
        "    \"Lokasi\": [\n",
        "        \"Citraland\", \"Jl Raya Sepang\", \"Jl Ciracas\", \"Jl Kolonel Tubagus Suwandi\",\n",
        "        \"Jl Veteran\", \"Jl Kh Abdul Hadi\", \"Jl Kejaksaan I\", \"Jl Jend Ahmad Yani\",\n",
        "        \"Jl Kh Sochan\", \"Jl Kh abdul fatah hasan\", \"Jl Jend Sudirman\", \"Rs Sari Asih Serang\"\n",
        "    ],\n",
        "    \"Koordinat\": [\n",
        "        \"-6.131067, 106.132513\", \"-6.133913, 106.134790\", \"-6.127008, 106.144934\",\n",
        "        \"-6.127864, 106.146556\", \"-6.116890, 106.153907\", \"-6.125760, 106.159867\",\n",
        "        \"-6.123619, 106.156434\", \"-6.118500, 106.159189\", \"-6.122556, 106.164502\",\n",
        "        \"-6.124513, 106.171925\", \"-6.120478, 106.173673\", \"-6.118677, 106.181270\"\n",
        "    ]\n",
        "}\n",
        "\n",
        "\n",
        "data['X'] = [float(coord.split(\", \")[0]) for coord in data['Koordinat']]\n",
        "data['Y'] = [float(coord.split(\", \")[1]) for coord in data['Koordinat']]\n",
        "\n",
        "\n",
        "df = pd.DataFrame(data)\n",
        "df.to_csv(\"dataset/location.csv\", index=False)\n",
        "dataset = pd.read_csv('dataset/location.csv')\n",
        "dataset\n"
      ],
      "metadata": {
        "id": "UrOIAVb1yVcM"
      },
      "execution_count": null,
      "outputs": []
    },
    {
      "cell_type": "markdown",
      "source": [
        "Menampilkan Lokasi dan Map"
      ],
      "metadata": {
        "id": "p314y1K_uqae"
      }
    },
    {
      "cell_type": "code",
      "source": [
        "\n",
        "_map = fl.Map(location=[-6.1236296, 106.1556118], zoom_start=15.4)\n",
        "\n",
        "\n",
        "for index, row in dataset.iterrows():\n",
        "    fl.Marker(\n",
        "        location=[row['X'], row['Y']],\n",
        "        popup=row['Lokasi'],\n",
        "        tooltip=row['Lokasi'],\n",
        "    ).add_to(_map)\n",
        "    fl.Marker(location=[-6.131067,106.132513], icon=fl.Icon(color='green',icon='home',prefix='fa')).add_to(_map)\n",
        "    fl.Marker(location=[-6.118677,106.181270], icon=fl.Icon(color='red',icon='plus-square',prefix='fa')).add_to(_map)\n",
        "\n",
        "_map"
      ],
      "metadata": {
        "id": "3uHNaeYoLsFQ"
      },
      "execution_count": null,
      "outputs": []
    },
    {
      "cell_type": "markdown",
      "source": [
        "Data Jarak Sesungguhnya g(n)\n"
      ],
      "metadata": {
        "id": "c0TXQa4vrALu"
      }
    },
    {
      "cell_type": "markdown",
      "source": [
        "Implementasi Perhitungan euclidean  untuk menentukan h(n)\n"
      ],
      "metadata": {
        "id": "NswAFWeNzrX3"
      }
    },
    {
      "cell_type": "code",
      "source": [
        "file_path = 'dataset/koordinat.csv'\n",
        "data = pd.read_csv(file_path)\n",
        "\n",
        "nodes = data['Titik'].unique()\n",
        "\n",
        "coordinates = {row['Titik']: (row['X'], row['Y']) for _, row in data.iterrows()}\n",
        "\n",
        "def euclidean_distance(point1, point2):\n",
        "    x1, y1 = coordinates[point1]\n",
        "    x2, y2 = coordinates[point2]\n",
        "    return np.sqrt((x2 - x1)**2 + (y2 - y1)**2)\n",
        "\n",
        "goal_node = 'L'\n",
        "\n",
        "heuristic = []\n",
        "for node in nodes:\n",
        "    distance = euclidean_distance(node, goal_node)\n",
        "    heuristic.append((node, distance))\n",
        "\n",
        "results_df = pd.DataFrame(heuristic, columns=['Titik', 'nilai_heuristic'])\n",
        "results_df.to_csv('dataset/euclidean.csv', index=False)"
      ],
      "metadata": {
        "id": "LqlctZm21uB2"
      },
      "execution_count": null,
      "outputs": []
    },
    {
      "cell_type": "code",
      "source": [
        "dataset = pd.read_csv('dataset/euclidean.csv')\n",
        "dataset"
      ],
      "metadata": {
        "id": "oo3RXdgo19x5"
      },
      "execution_count": null,
      "outputs": []
    },
    {
      "cell_type": "markdown",
      "source": [
        "# **Implementasi Algoritma A***"
      ],
      "metadata": {
        "id": "2n3L6fDR8kpZ"
      }
    },
    {
      "cell_type": "code",
      "source": [
        "def astar(start, goal, graph, heuristic):\n",
        "    open_set = [(0, start)]\n",
        "    close_set = set()\n",
        "    g_cost = {start: 0}\n",
        "    parent = {start: None}\n",
        "\n",
        "    while open_set:\n",
        "\n",
        "        current_cost, current_node = heapq.heappop(open_set)\n",
        "\n",
        "\n",
        "        if current_node == goal:\n",
        "            path = []\n",
        "            total_distance = 0\n",
        "            while current_node is not None:\n",
        "                path.append(current_node)\n",
        "                if parent[current_node] is not None:\n",
        "                    total_distance += graph[current_node][parent[current_node]]\n",
        "                current_node = parent[current_node]\n",
        "            path.reverse()\n",
        "            return path, total_distance\n",
        "\n",
        "        close_set.add(current_node)\n",
        "\n",
        "\n",
        "        for neighbor in graph.get(current_node, []):\n",
        "            if neighbor in close_set:\n",
        "                continue\n",
        "\n",
        "\n",
        "            new_g_cost = g_cost[current_node] + graph[current_node][neighbor]\n",
        "\n",
        "            if neighbor not in [node[1] for node in open_set] or new_g_cost < g_cost.get(neighbor, float('inf')):\n",
        "                g_cost[neighbor] = new_g_cost\n",
        "                f_cost = new_g_cost + heuristic[neighbor]\n",
        "                heapq.heappush(open_set, (f_cost, neighbor))\n",
        "                parent[neighbor] = current_node\n",
        "\n",
        "    return None, None\n",
        "\n",
        "cost_data = pd.read_csv('dataset/cost_value.csv')\n",
        "graph = {}\n",
        "for _, row in cost_data.iterrows():\n",
        "    node1, node2 = row['Titik']\n",
        "    cost = row['f(n)']\n",
        "    if node1 not in graph:\n",
        "        graph[node1] = {}\n",
        "    if node2 not in graph:\n",
        "        graph[node2] = {}\n",
        "    graph[node1][node2] = cost\n",
        "    graph[node2][node1] = cost\n",
        "\n",
        "heuristic_data = pd.read_csv('dataset/euclidean.csv')\n",
        "heuristic = dict(zip(heuristic_data['Titik'], heuristic_data['nilai_heuristic']))\n",
        "\n",
        "start = 'A'\n",
        "goal = 'L'\n",
        "path, total_distance = astar(start, goal, graph, heuristic)\n",
        "\n",
        "if path:\n",
        "    print(f\"Jalur terdekat dari {start} ke {goal}: {' -> '.join(path)}\")\n",
        "    print(f\"Total jarak sesungguhnya: {total_distance} Km\")\n",
        "else:\n",
        "    print(f\"Tidak ditemukan jalur dari {start} ke {goal}\")"
      ],
      "metadata": {
        "id": "LaAi5Dv8HOTg"
      },
      "execution_count": null,
      "outputs": []
    },
    {
      "cell_type": "markdown",
      "source": [
        "**Visualisasi Jalur Terpendek**"
      ],
      "metadata": {
        "id": "JB8YopXK8og4"
      }
    },
    {
      "cell_type": "code",
      "source": [
        "\n",
        "data = {\n",
        "    \"No\": [1, 2, 3, 4, 5, 6, 7, 8, 9, 10, 11, 12],\n",
        "    \"Titik\": [\"A\", \"B\", \"C\", \"D\", \"E\", \"F\", \"G\", \"H\", \"I\", \"J\", \"K\", \"L\"],\n",
        "    \"Lokasi\": [\n",
        "        \"Citraland\", \"Jl Raya Sepang\", \"Jl Ciracas\", \"Jl Kolonel Tubagus Suwandi\",\n",
        "        \"Jl Veteran\", \"Jl Kh Abdul Hadi\", \"Jl Kejaksaan I\", \"Jl Jend Ahmad Yani\",\n",
        "        \"Jl Kh Sochan\", \"Jl Kh abdul fatah hasan\", \"Jl Jend Sudirman\", \"Rs Sari Asih Serang\"\n",
        "    ],\n",
        "    \"Koordinat\": [\n",
        "        \"-6.131067, 106.132513\", \"-6.133913, 106.134790\", \"-6.127008, 106.144934\",\n",
        "        \"-6.127864, 106.146556\", \"-6.116890, 106.153907\", \"-6.125760, 106.159867\",\n",
        "        \"-6.123619, 106.156434\", \"-6.118500, 106.159189\", \"-6.122556, 106.164502\",\n",
        "        \"-6.124513, 106.171925\", \"-6.120478, 106.173673\", \"-6.118677, 106.181270\"\n",
        "    ]\n",
        "}\n",
        "\n",
        "data['X'] = [float(coord.split(\", \")[0]) for coord in data['Koordinat']]\n",
        "data['Y'] = [float(coord.split(\", \")[1]) for coord in data['Koordinat']]\n",
        "\n",
        "df = pd.DataFrame(data)\n",
        "\n",
        "\n",
        "_map = fl.Map(location=[-6.1236296, 106.1556118], zoom_start=15.4)\n",
        "\n",
        "for index, row in df.iterrows():\n",
        "    fl.Marker(\n",
        "        location=[row['X'], row['Y']],\n",
        "        popup=row['Lokasi'],\n",
        "        tooltip=row['Lokasi'],\n",
        "    ).add_to(_map)\n",
        "\n",
        "fl.Marker(location=[-6.131067, 106.132513], icon=fl.Icon(color='green', icon='home', prefix='fa')).add_to(_map)\n",
        "fl.Marker(location=[-6.118677, 106.181270], icon=fl.Icon(color='red', icon='plus-square', prefix='fa')).add_to(_map)\n",
        "\n",
        "\n",
        "coordinates = df[df['Titik'].isin(path)][['X', 'Y']].values.tolist()\n",
        "fl.PolyLine(locations=coordinates, color='blue', weight=5).add_to(_map)\n",
        "\n",
        "_map"
      ],
      "metadata": {
        "id": "JiDN8SLb6wYp"
      },
      "execution_count": null,
      "outputs": []
    }
  ]
}